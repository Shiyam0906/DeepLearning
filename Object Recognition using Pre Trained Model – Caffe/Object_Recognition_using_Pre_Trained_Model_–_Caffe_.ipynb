{
  "cells": [
    {
      "cell_type": "markdown",
      "metadata": {
        "id": "view-in-github",
        "colab_type": "text"
      },
      "source": [
        "<a href=\"https://colab.research.google.com/github/Shiyam0906/DeepLearning/blob/main/Object%20Recognition%20using%20Pre%20Trained%20Model%20%E2%80%93%20Caffe/Object_Recognition_using_Pre_Trained_Model_%E2%80%93_Caffe_.ipynb\" target=\"_parent\"><img src=\"https://colab.research.google.com/assets/colab-badge.svg\" alt=\"Open In Colab\"/></a>"
      ]
    },
    {
      "cell_type": "code",
      "execution_count": null,
      "id": "84b22a06",
      "metadata": {
        "id": "84b22a06"
      },
      "outputs": [],
      "source": [
        "!pip install imutils"
      ]
    },
    {
      "cell_type": "code",
      "execution_count": null,
      "id": "376eecd1",
      "metadata": {
        "id": "376eecd1"
      },
      "outputs": [],
      "source": [
        "!pip install opencv-python\n"
      ]
    },
    {
      "cell_type": "code",
      "execution_count": null,
      "id": "57f79a6e",
      "metadata": {
        "id": "57f79a6e"
      },
      "outputs": [],
      "source": [
        "import numpy as np\n",
        "import imutils\n",
        "import cv2\n",
        "import time\n",
        "\n",
        "prototxt = \"MobileNetSSD_deploy.prototxt.txt\"\n",
        "model = \"MobileNetSSD_deploy.caffemodel\"\n",
        "confThresh = 0.2\n",
        "\n",
        "CLASSES = [\"background\", \"aeroplane\", \"bicycle\", \"bird\", \"boat\",\n",
        "    \"bottle\", \"bus\", \"car\", \"cat\", \"chair\", \"cow\", \"diningtable\",\n",
        "    \"dog\", \"horse\", \"motorbike\", \"person\", \"pottedplant\", \"sheep\",\n",
        "    \"sofa\", \"train\", \"tvmonitor\"]\n",
        "\n",
        "COLORS = np.random.uniform(0, 255, size=(len(CLASSES), 3))\n",
        "\n",
        "print(\"Loading model...\")\n",
        "net = cv2.dnn.readNetFromCaffe(prototxt, model)\n",
        "print(\"Model Loaded\")\n",
        "print(\"Starting Camera Feed...\")\n",
        "\n",
        "vs = cv2.VideoCapture(0)\n",
        "time.sleep(2.0)\n",
        "\n",
        "while True:\n",
        "    # Read the frame from the camera\n",
        "    ret, frame = vs.read()\n",
        "\n",
        "    # Check if the frame was successfully captured\n",
        "    if not ret:\n",
        "        print(\"Failed to capture frame. Exiting...\")\n",
        "        break\n",
        "\n",
        "    frame = imutils.resize(frame, width=500)\n",
        "    (h, w) = frame.shape[:2]\n",
        "    imResize = cv2.resize(frame, (300, 300))\n",
        "    blob = cv2.dnn.blobFromImage(imResize, 0.007843, (300, 300), 127.5)\n",
        "\n",
        "    net.setInput(blob)\n",
        "    detections = net.forward()\n",
        "\n",
        "    detShape = detections.shape[2]\n",
        "    for i in np.arange(0, detShape):\n",
        "        confidence = detections[0, 0, i, 2]\n",
        "        if confidence > confThresh:\n",
        "            idx = int(detections[0, 0, i, 1])\n",
        "            box = detections[0, 0, i, 3:7] * np.array([w, h, w, h])\n",
        "            (startX, startY, endX, endY) = box.astype(\"int\")\n",
        "\n",
        "            label = \"{}: {:.2f}%\".format(CLASSES[idx], confidence * 100)\n",
        "            cv2.rectangle(frame, (startX, startY), (endX, endY), COLORS[idx], 2)\n",
        "            if startY - 15 > 15:\n",
        "                y = startY - 15\n",
        "            else:\n",
        "                y = startY + 15\n",
        "            cv2.putText(frame, label, (startX, y), cv2.FONT_HERSHEY_SIMPLEX, 0.5, COLORS[idx], 2)\n",
        "\n",
        "    cv2.imshow(\"Frame\", frame)\n",
        "    key = cv2.waitKey(1)\n",
        "    if key == 27:\n",
        "        break\n",
        "\n",
        "# Release the video capture object and close all windows\n",
        "vs.release()\n",
        "cv2.destroyAllWindows()\n"
      ]
    },
    {
      "cell_type": "code",
      "source": [],
      "metadata": {
        "id": "vDdB04pFNuRg"
      },
      "id": "vDdB04pFNuRg",
      "execution_count": null,
      "outputs": []
    },
    {
      "cell_type": "code",
      "execution_count": null,
      "id": "4beffd7b",
      "metadata": {
        "id": "4beffd7b"
      },
      "outputs": [],
      "source": []
    }
  ],
  "metadata": {
    "kernelspec": {
      "display_name": "Python 3 (ipykernel)",
      "language": "python",
      "name": "python3"
    },
    "language_info": {
      "codemirror_mode": {
        "name": "ipython",
        "version": 3
      },
      "file_extension": ".py",
      "mimetype": "text/x-python",
      "name": "python",
      "nbconvert_exporter": "python",
      "pygments_lexer": "ipython3",
      "version": "3.11.5"
    },
    "colab": {
      "provenance": [],
      "include_colab_link": true
    }
  },
  "nbformat": 4,
  "nbformat_minor": 5
}