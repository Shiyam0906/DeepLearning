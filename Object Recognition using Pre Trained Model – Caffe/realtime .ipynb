{
 "cells": [
  {
   "cell_type": "code",
   "execution_count": 1,
   "id": "57f79a6e",
   "metadata": {},
   "outputs": [
    {
     "name": "stdout",
     "output_type": "stream",
     "text": [
      "Loading model...\n",
      "Model Loaded\n",
      "Starting Camera Feed...\n"
     ]
    }
   ],
   "source": [
    "import numpy as np #array \n",
    "import imutils #reshaping an image\n",
    "import cv2 #read frame the camera & DNN\n",
    "import time #delay\n",
    "\n",
    "prototxt = \"MobileNetSSD_deploy.prototxt.txt\"\n",
    "model = \"MobileNetSSD_deploy.caffemodel\"\n",
    "confThresh = 0.2 #Confidence Threshold\n",
    "\n",
    "CLASSES = [\"background\", \"aeroplane\", \"bicycle\", \"bird\", \"boat\",\n",
    "\t\"bottle\", \"bus\", \"car\", \"cat\", \"chair\", \"cow\", \"diningtable\",\n",
    "\t\"dog\", \"horse\", \"motorbike\", \"person\", \"pottedplant\", \"sheep\",\n",
    "\t\"sofa\", \"train\", \"tvmonitor\"] #Classes or Objects\n",
    "\n",
    "COLORS = np.random.uniform(0, 255, size=(len(CLASSES), 3)) #Bounding Box & Text Color\n",
    "\n",
    "print(\"Loading model...\")\n",
    "net = cv2.dnn.readNetFromCaffe(prototxt, model) #Load the intelligence from the pretrained model file\n",
    "print(\"Model Loaded\")\n",
    "print(\"Starting Camera Feed...\")\n",
    "vs = cv2.VideoCapture(0) #which camera we gonna use.\n",
    "time.sleep(2.0)\n",
    "\n",
    "while True:\n",
    "\t_,frame = vs.read() #read the frame from camera\n",
    "\tframe = imutils.resize(frame, width=500) #resize for display in ouput\n",
    "\t(h, w) = frame.shape[:2] #obtaining h & w\n",
    "\timResize = cv2.resize(frame, (300, 300)) #pre process pre train\n",
    "\tblob = cv2.dnn.blobFromImage(imResize,\n",
    "\t\t0.007843, (300, 300), 127.5) #blob\n",
    "\n",
    "\tnet.setInput(blob)\n",
    "\tdetections = net.forward()\n",
    "\t\n",
    "\tdetShape = detections.shape[2]\n",
    "\tfor i in np.arange(0,detShape):\n",
    "\t\tconfidence = detections[0, 0, i, 2]\n",
    "\t\tif confidence > confThresh:     \n",
    "\t\t\tidx = int(detections[0, 0, i, 1])\n",
    "\t\t\tbox = detections[0, 0, i, 3:7] * np.array([w, h, w, h])\n",
    "\t\t\t(startX, startY, endX, endY) = box.astype(\"int\")\n",
    "\t\t\t\n",
    "\t\t\tlabel = \"{}: {:.2f}%\".format(CLASSES[idx],\n",
    "\t\t\t\tconfidence * 100)\n",
    "\t\t\tcv2.rectangle(frame, (startX, startY), (endX, endY),\n",
    "\t\t\t\tCOLORS[idx], 2)\n",
    "\t\t\tif startY - 15 > 15:\n",
    "\t\t\t\ty = startY - 15\n",
    "\t\t\telse:\n",
    "\t\t\t\ty =startY + 15\n",
    "\t\t\tcv2.putText(frame, label, (startX, y),\n",
    "\t\t\t\tcv2.FONT_HERSHEY_SIMPLEX, 0.5, COLORS[idx], 2)\n",
    "\n",
    "\tcv2.imshow(\"Frame\", frame)\n",
    "\tkey = cv2.waitKey(1)\n",
    "\tif key == 27:\n",
    "\t\tbreak\n",
    "vs.release()\n",
    "cv2.destroyAllWindows()\n",
    "\n"
   ]
  },
  {
   "cell_type": "code",
   "execution_count": null,
   "id": "84b22a06",
   "metadata": {},
   "outputs": [],
   "source": [
    "pip install imutils"
   ]
  },
  {
   "cell_type": "code",
   "execution_count": null,
   "id": "376eecd1",
   "metadata": {},
   "outputs": [],
   "source": [
    "pip install opencv-python\n"
   ]
  },
  {
   "cell_type": "code",
   "execution_count": null,
   "id": "4beffd7b",
   "metadata": {},
   "outputs": [],
   "source": []
  }
 ],
 "metadata": {
  "kernelspec": {
   "display_name": "Python 3 (ipykernel)",
   "language": "python",
   "name": "python3"
  },
  "language_info": {
   "codemirror_mode": {
    "name": "ipython",
    "version": 3
   },
   "file_extension": ".py",
   "mimetype": "text/x-python",
   "name": "python",
   "nbconvert_exporter": "python",
   "pygments_lexer": "ipython3",
   "version": "3.11.5"
  }
 },
 "nbformat": 4,
 "nbformat_minor": 5
}
